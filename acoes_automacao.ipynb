{
 "cells": [
  {
   "cell_type": "code",
   "execution_count": 1,
   "id": "6f8a9a0f",
   "metadata": {},
   "outputs": [
    {
     "data": {
      "text/html": [
       "<div>\n",
       "<style scoped>\n",
       "    .dataframe tbody tr th:only-of-type {\n",
       "        vertical-align: middle;\n",
       "    }\n",
       "\n",
       "    .dataframe tbody tr th {\n",
       "        vertical-align: top;\n",
       "    }\n",
       "\n",
       "    .dataframe thead th {\n",
       "        text-align: right;\n",
       "    }\n",
       "</style>\n",
       "<table border=\"1\" class=\"dataframe\">\n",
       "  <thead>\n",
       "    <tr style=\"text-align: right;\">\n",
       "      <th></th>\n",
       "      <th>Unnamed: 0</th>\n",
       "      <th>CÓDIGO</th>\n",
       "    </tr>\n",
       "  </thead>\n",
       "  <tbody>\n",
       "    <tr>\n",
       "      <th>0</th>\n",
       "      <td>0</td>\n",
       "      <td>AALR3</td>\n",
       "    </tr>\n",
       "    <tr>\n",
       "      <th>1</th>\n",
       "      <td>1</td>\n",
       "      <td>ABCB4</td>\n",
       "    </tr>\n",
       "    <tr>\n",
       "      <th>2</th>\n",
       "      <td>2</td>\n",
       "      <td>ABEV3</td>\n",
       "    </tr>\n",
       "    <tr>\n",
       "      <th>3</th>\n",
       "      <td>3</td>\n",
       "      <td>ADHM3</td>\n",
       "    </tr>\n",
       "    <tr>\n",
       "      <th>4</th>\n",
       "      <td>4</td>\n",
       "      <td>AERI3</td>\n",
       "    </tr>\n",
       "    <tr>\n",
       "      <th>...</th>\n",
       "      <td>...</td>\n",
       "      <td>...</td>\n",
       "    </tr>\n",
       "    <tr>\n",
       "      <th>591</th>\n",
       "      <td>591</td>\n",
       "      <td>WHRL3</td>\n",
       "    </tr>\n",
       "    <tr>\n",
       "      <th>592</th>\n",
       "      <td>592</td>\n",
       "      <td>WHRL4</td>\n",
       "    </tr>\n",
       "    <tr>\n",
       "      <th>593</th>\n",
       "      <td>593</td>\n",
       "      <td>WLMM3</td>\n",
       "    </tr>\n",
       "    <tr>\n",
       "      <th>594</th>\n",
       "      <td>594</td>\n",
       "      <td>WLMM4</td>\n",
       "    </tr>\n",
       "    <tr>\n",
       "      <th>595</th>\n",
       "      <td>595</td>\n",
       "      <td>YDUQ3</td>\n",
       "    </tr>\n",
       "  </tbody>\n",
       "</table>\n",
       "<p>596 rows × 2 columns</p>\n",
       "</div>"
      ],
      "text/plain": [
       "     Unnamed: 0 CÓDIGO\n",
       "0             0  AALR3\n",
       "1             1  ABCB4\n",
       "2             2  ABEV3\n",
       "3             3  ADHM3\n",
       "4             4  AERI3\n",
       "..          ...    ...\n",
       "591         591  WHRL3\n",
       "592         592  WHRL4\n",
       "593         593  WLMM3\n",
       "594         594  WLMM4\n",
       "595         595  YDUQ3\n",
       "\n",
       "[596 rows x 2 columns]"
      ]
     },
     "metadata": {},
     "output_type": "display_data"
    }
   ],
   "source": [
    "from selenium import webdriver\n",
    "from time import sleep as sl\n",
    "import pandas as pd\n",
    "import pyautogui as py\n",
    "\n",
    "df = pd.read_excel('Setor_Ações.xlsx')\n",
    "display(df)"
   ]
  },
  {
   "cell_type": "code",
   "execution_count": null,
   "id": "c6789b66",
   "metadata": {},
   "outputs": [
    {
     "name": "stdout",
     "output_type": "stream",
     "text": [
      "https://statusinvest.com.br/\n"
     ]
    }
   ],
   "source": [
    "navegador = webdriver.Chrome()\n",
    "navegador.get('https://www.google.com')\n",
    "link = 'https://statusinvest.com.br/'\n",
    "navegador.get(link)\n",
    "print(link)\n",
    "\n",
    "py.keyDown('win')\n",
    "py.press('up')\n",
    "py.keyUp('win')\n",
    "\n",
    "setor = []\n",
    "\n",
    "for c in df['CÓDIGO']:\n",
    "    navegador.find_element('xpath', '//*[@id=\"main-nav-nav\"]/div/div/div/ul/li[2]/a/i').click()\n",
    "    navegador.find_element('xpath', '//*[@id=\"main-search\"]/div[1]/span[1]/input[2]').send_keys(c)\n",
    "    sl(3.5)\n",
    "    navegador.find_element('xpath', '//*[@id=\"main-search\"]/div[2]/div/div/a').click()\n",
    "    sl(1.8)\n",
    "    navegador.find_element('xpath', '//*[@id=\"main-2\"]/div[1]/div/div/ul/li[2]/a').click()\n",
    "    py.scroll(-250)\n",
    "    setor.append(navegador.find_element('xpath', '//*[@id=\"company-section\"]/div[1]/div/div[3]/div/div[1]/div/div/div/a/strong').text)\n"
   ]
  },
  {
   "cell_type": "code",
   "execution_count": null,
   "id": "96b51dd5",
   "metadata": {},
   "outputs": [],
   "source": [
    "df = pd.DataFrame(zip(setor), columns=['SETOR'])\n",
    "display(df)"
   ]
  },
  {
   "cell_type": "code",
   "execution_count": null,
   "id": "08270c4a",
   "metadata": {},
   "outputs": [],
   "source": [
    "df.to_excel('setor_ações1.xlsx')"
   ]
  },
  {
   "cell_type": "code",
   "execution_count": null,
   "id": "02b815f7",
   "metadata": {},
   "outputs": [],
   "source": []
  }
 ],
 "metadata": {
  "kernelspec": {
   "display_name": "Python 3",
   "language": "python",
   "name": "python3"
  },
  "language_info": {
   "codemirror_mode": {
    "name": "ipython",
    "version": 3
   },
   "file_extension": ".py",
   "mimetype": "text/x-python",
   "name": "python",
   "nbconvert_exporter": "python",
   "pygments_lexer": "ipython3",
   "version": "3.8.8"
  }
 },
 "nbformat": 4,
 "nbformat_minor": 5
}
